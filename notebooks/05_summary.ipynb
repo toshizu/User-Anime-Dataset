{
 "cells": [
  {
   "cell_type": "markdown",
   "id": "eb551b88-64df-43b8-a72e-cab403823490",
   "metadata": {},
   "source": [
    "# 05. User Animelist Dataset\n",
    "このページでは、全体のまとめを行う。"
   ]
  },
  {
   "cell_type": "markdown",
   "id": "74598289-0cb7-4faa-a124-5617a66dbbfb",
   "metadata": {},
   "source": [
    "## 分析の目的\n",
    "アニメ作品の属性と、ユーザーのレーティングから、人気の高いアニメ作品の割り出しと、その要因となる要素を分析する。"
   ]
  },
  {
   "cell_type": "markdown",
   "id": "f1ff9a37-f26b-48b6-880e-dc48a7317e9d",
   "metadata": {},
   "source": [
    "## 使用データ\n",
    "- Kaggle提供: User Anime Dataset\n",
    "- 使用ファイル: animes.pkl, merged.pkl, genre_rate.pkl"
   ]
  },
  {
   "cell_type": "markdown",
   "id": "62797f4d-c4e2-4000-9ec2-03827565737f",
   "metadata": {},
   "source": [
    "## 分析構成\n",
    "|Notebook |内容 |主な分析軸 |\n",
    "|------|-------|-----|\n",
    "|01 |データの読み込み・概要の確認 |欠損値の有無を確認・データの分布を確認・グラフ作成 |\n",
    "|02 |データの整形・前処理 |欠損値処理・データ型変換・テーブルの結合 |\n",
    "|03 |各属性に対する分析 |リリース年・放送形式・エピソード数 |\n",
    "|04 |ジャンル属性に関する分析 |特に人気の高いジャンルに関する分析 |"
   ]
  },
  {
   "cell_type": "markdown",
   "id": "9976cd1c-b6d4-45d6-965f-bd0718198568",
   "metadata": {},
   "source": [
    "## 可視化ギャラリー\n",
    "代表的なグラフを抜粋。<br>\n",
    "※その他結果はnotebook参照。グラフ画像は`../reports`以下に保存。  \n",
    "\n",
    "#### テレビ放送形式のアニメが、他の形式よりもレーティングの投稿数が一番多い\n",
    "<img src=\"../reports/08_Number_of_Score_in_each_Type_of_Animes.png\" alt=\"サンプル図\" width=\"700\">\n",
    "\n",
    "#### 評価平均の高い作品群(左)よりも、エピソード数の多い作品群(右)の方が、はるかに投稿数が多くなっている\n",
    "<img src=\"../reports/10_difference in number of ratings.png\" alt=\"サンプル図\" width=\"700\">\n",
    "\n",
    "#### 続編(右)よりも、無印(左)の方が、投稿数が多い＝関心を集めた\n",
    "<img src=\"../reports/11_Number_of_Score_Depends_on_whether_it's_a_sequel_or_not.png\" alt=\"サンプル図\" width=\"700\">\n",
    "\n",
    "#### 人気の高いジャンルとしては、アクション・コメディ・ファンタジーが挙げられる\n",
    "<img src=\"../reports/14_Number_of_Score_in_each_Genres.png\" alt=\"サンプル図\" width=\"700\">"
   ]
  },
  {
   "cell_type": "markdown",
   "id": "82a8a17b-c260-4cfe-909d-daeb68b7ed4c",
   "metadata": {},
   "source": [
    "## 主なインサイト\n",
    "- ファンにとって、一番身近で親しまれているのは、テレビ放送形式のアニメ作品である\n",
    "- 投稿サイトのような形式のデータでは、評価の平均点よりも**投稿数**の方が、より話題作である事を示す指標として優れている\n",
    "- 続編よりも、無印作品の方が、より多くの人に観られている事が分かった。続編を観るのは、一部のコアなファン層である\n",
    "- アニメ作品として人気が出やすいジャンルは、アクション要素であると言える。"
   ]
  },
  {
   "cell_type": "markdown",
   "id": "0bd80ba2-3fc9-4b24-90d3-85b7d7cc4e14",
   "metadata": {},
   "source": [
    "## 総括\n",
    "この分析によって、人気を得るアニメ作品の要素・傾向を知ることができた。このような分析によって得られる知見が、今後の作品作りにおいて大いに参考になりえると考えられる。"
   ]
  },
  {
   "cell_type": "code",
   "execution_count": null,
   "id": "1e43c5e2-f956-4220-bde1-0e3363a1e34c",
   "metadata": {},
   "outputs": [],
   "source": []
  }
 ],
 "metadata": {
  "kernelspec": {
   "display_name": "Python 3 (ipykernel)",
   "language": "python",
   "name": "python3"
  },
  "language_info": {
   "codemirror_mode": {
    "name": "ipython",
    "version": 3
   },
   "file_extension": ".py",
   "mimetype": "text/x-python",
   "name": "python",
   "nbconvert_exporter": "python",
   "pygments_lexer": "ipython3",
   "version": "3.12.10"
  }
 },
 "nbformat": 4,
 "nbformat_minor": 5
}
