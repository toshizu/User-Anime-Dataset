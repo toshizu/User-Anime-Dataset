{
 "cells": [
  {
   "cell_type": "markdown",
   "id": "3a5b4ec1-9989-4c8b-b987-2b3f8ed5205c",
   "metadata": {},
   "source": [
    "# 04. User Animelist Dataset\n",
    "ここからは、今まで触れてこなかった**ジャンル**属性に関する分析を行いたい。"
   ]
  },
  {
   "cell_type": "code",
   "execution_count": 1,
   "id": "9d094755-7a99-44ec-9c14-75751427ea81",
   "metadata": {},
   "outputs": [],
   "source": [
    "import numpy as np\n",
    "import pandas as pd\n",
    "from pathlib import Path\n",
    "import matplotlib.pyplot as plt\n",
    "import ast\n",
    "import matplotlib as mpl"
   ]
  },
  {
   "cell_type": "code",
   "execution_count": 2,
   "id": "e6630d8a-a862-4301-b6d4-b712beee1360",
   "metadata": {},
   "outputs": [],
   "source": [
    "# グラフ画像保存用パラメータ\n",
    "mpl.rcParams[\"figure.dpi\"] = 80\n",
    "mpl.rcParams[\"savefig.dpi\"] = 300\n",
    "mpl.rcParams[\"savefig.bbox\"] = \"tight\"\n",
    "mpl.rcParams[\"figure.figsize\"] = (8, 6)\n",
    "output_dir = Path(\"..\", \"output\")"
   ]
  },
  {
   "cell_type": "code",
   "execution_count": 3,
   "id": "d069aca0-30f4-451d-8b89-e90640124a43",
   "metadata": {},
   "outputs": [],
   "source": [
    "ratings = pd.read_pickle(Path(\"..\", \"data\", \"processed\", \"merged.pkl\"))"
   ]
  },
  {
   "cell_type": "code",
   "execution_count": 4,
   "id": "70177861-f1c4-4454-af5d-3ff4c9764502",
   "metadata": {},
   "outputs": [
    {
     "data": {
      "text/html": [
       "<div>\n",
       "<style scoped>\n",
       "    .dataframe tbody tr th:only-of-type {\n",
       "        vertical-align: middle;\n",
       "    }\n",
       "\n",
       "    .dataframe tbody tr th {\n",
       "        vertical-align: top;\n",
       "    }\n",
       "\n",
       "    .dataframe thead th {\n",
       "        text-align: right;\n",
       "    }\n",
       "</style>\n",
       "<table border=\"1\" class=\"dataframe\">\n",
       "  <thead>\n",
       "    <tr style=\"text-align: right;\">\n",
       "      <th></th>\n",
       "      <th>userID</th>\n",
       "      <th>animeID</th>\n",
       "      <th>rating</th>\n",
       "      <th>type</th>\n",
       "      <th>year</th>\n",
       "      <th>episodes</th>\n",
       "      <th>sequel</th>\n",
       "    </tr>\n",
       "  </thead>\n",
       "  <tbody>\n",
       "    <tr>\n",
       "      <th>0</th>\n",
       "      <td>1</td>\n",
       "      <td>1</td>\n",
       "      <td>10</td>\n",
       "      <td>MOVIE</td>\n",
       "      <td>2004</td>\n",
       "      <td>1</td>\n",
       "      <td>False</td>\n",
       "    </tr>\n",
       "    <tr>\n",
       "      <th>1</th>\n",
       "      <td>1</td>\n",
       "      <td>2</td>\n",
       "      <td>10</td>\n",
       "      <td>TV</td>\n",
       "      <td>2006</td>\n",
       "      <td>37</td>\n",
       "      <td>False</td>\n",
       "    </tr>\n",
       "    <tr>\n",
       "      <th>2</th>\n",
       "      <td>1</td>\n",
       "      <td>3</td>\n",
       "      <td>7</td>\n",
       "      <td>TV</td>\n",
       "      <td>2013</td>\n",
       "      <td>10</td>\n",
       "      <td>False</td>\n",
       "    </tr>\n",
       "  </tbody>\n",
       "</table>\n",
       "</div>"
      ],
      "text/plain": [
       "   userID  animeID  rating   type  year  episodes  sequel\n",
       "0       1        1      10  MOVIE  2004         1   False\n",
       "1       1        2      10     TV  2006        37   False\n",
       "2       1        3       7     TV  2013        10   False"
      ]
     },
     "execution_count": 4,
     "metadata": {},
     "output_type": "execute_result"
    }
   ],
   "source": [
    "ratings.head(3)"
   ]
  },
  {
   "cell_type": "code",
   "execution_count": 5,
   "id": "0642f6e9-6a47-48b2-bd91-bf61d57d8932",
   "metadata": {},
   "outputs": [
    {
     "name": "stdout",
     "output_type": "stream",
     "text": [
      "<class 'pandas.core.frame.DataFrame'>\n",
      "RangeIndex: 148170496 entries, 0 to 148170495\n",
      "Data columns (total 7 columns):\n",
      " #   Column    Dtype   \n",
      "---  ------    -----   \n",
      " 0   userID    int32   \n",
      " 1   animeID   int16   \n",
      " 2   rating    int8    \n",
      " 3   type      category\n",
      " 4   year      Int16   \n",
      " 5   episodes  int16   \n",
      " 6   sequel    bool    \n",
      "dtypes: Int16(1), bool(1), category(1), int16(2), int32(1), int8(1)\n",
      "memory usage: 1.9 GB\n"
     ]
    }
   ],
   "source": [
    "ratings.info()"
   ]
  },
  {
   "cell_type": "code",
   "execution_count": 6,
   "id": "a4e2395f-b620-4fc6-a524-ad47326c39ab",
   "metadata": {},
   "outputs": [],
   "source": [
    "animes = pd.read_pickle(Path(\"..\", \"data\", \"processed\", \"animes.pkl\"))"
   ]
  },
  {
   "cell_type": "code",
   "execution_count": 7,
   "id": "ce015a12-ca40-4517-a43c-52b4e5d2be73",
   "metadata": {},
   "outputs": [
    {
     "data": {
      "text/html": [
       "<div>\n",
       "<style scoped>\n",
       "    .dataframe tbody tr th:only-of-type {\n",
       "        vertical-align: middle;\n",
       "    }\n",
       "\n",
       "    .dataframe tbody tr th {\n",
       "        vertical-align: top;\n",
       "    }\n",
       "\n",
       "    .dataframe thead th {\n",
       "        text-align: right;\n",
       "    }\n",
       "</style>\n",
       "<table border=\"1\" class=\"dataframe\">\n",
       "  <thead>\n",
       "    <tr style=\"text-align: right;\">\n",
       "      <th></th>\n",
       "      <th>animeID</th>\n",
       "      <th>title</th>\n",
       "      <th>alternative_title</th>\n",
       "      <th>score</th>\n",
       "      <th>episodes</th>\n",
       "      <th>image_url</th>\n",
       "      <th>genres</th>\n",
       "      <th>genres_detailed</th>\n",
       "    </tr>\n",
       "  </thead>\n",
       "  <tbody>\n",
       "    <tr>\n",
       "      <th>0</th>\n",
       "      <td>1</td>\n",
       "      <td>Howl's Moving Castle</td>\n",
       "      <td>Howl no Ugoku Shiro</td>\n",
       "      <td>8.41</td>\n",
       "      <td>1</td>\n",
       "      <td>https://cdn.myanimelist.net/images/anime/1470/...</td>\n",
       "      <td>['Adventure', 'Award Winning', 'Drama', 'Fanta...</td>\n",
       "      <td>['action', 'adventure', 'age gap', 'air force'...</td>\n",
       "    </tr>\n",
       "    <tr>\n",
       "      <th>1</th>\n",
       "      <td>2</td>\n",
       "      <td>Death Note</td>\n",
       "      <td>NaN</td>\n",
       "      <td>8.63</td>\n",
       "      <td>37</td>\n",
       "      <td>https://cdn.myanimelist.net/images/anime/1079/...</td>\n",
       "      <td>['Supernatural', 'Suspense']</td>\n",
       "      <td>['achronological order', 'acting', 'adapted in...</td>\n",
       "    </tr>\n",
       "    <tr>\n",
       "      <th>2</th>\n",
       "      <td>3</td>\n",
       "      <td>Problem Children Are Coming from Another World...</td>\n",
       "      <td>Mondaiji-tachi ga Isekai kara Kuru Sou desu yo?</td>\n",
       "      <td>7.42</td>\n",
       "      <td>10</td>\n",
       "      <td>https://cdn.myanimelist.net/images/anime/12/43...</td>\n",
       "      <td>['Action', 'Comedy', 'Fantasy']</td>\n",
       "      <td>['action', 'alternative world', 'anthropomorph...</td>\n",
       "    </tr>\n",
       "  </tbody>\n",
       "</table>\n",
       "</div>"
      ],
      "text/plain": [
       "   animeID                                              title  \\\n",
       "0        1                               Howl's Moving Castle   \n",
       "1        2                                         Death Note   \n",
       "2        3  Problem Children Are Coming from Another World...   \n",
       "\n",
       "                                 alternative_title  score  episodes  \\\n",
       "0                              Howl no Ugoku Shiro   8.41         1   \n",
       "1                                              NaN   8.63        37   \n",
       "2  Mondaiji-tachi ga Isekai kara Kuru Sou desu yo?   7.42        10   \n",
       "\n",
       "                                           image_url  \\\n",
       "0  https://cdn.myanimelist.net/images/anime/1470/...   \n",
       "1  https://cdn.myanimelist.net/images/anime/1079/...   \n",
       "2  https://cdn.myanimelist.net/images/anime/12/43...   \n",
       "\n",
       "                                              genres  \\\n",
       "0  ['Adventure', 'Award Winning', 'Drama', 'Fanta...   \n",
       "1                       ['Supernatural', 'Suspense']   \n",
       "2                    ['Action', 'Comedy', 'Fantasy']   \n",
       "\n",
       "                                     genres_detailed  \n",
       "0  ['action', 'adventure', 'age gap', 'air force'...  \n",
       "1  ['achronological order', 'acting', 'adapted in...  \n",
       "2  ['action', 'alternative world', 'anthropomorph...  "
      ]
     },
     "execution_count": 7,
     "metadata": {},
     "output_type": "execute_result"
    }
   ],
   "source": [
    "animes.head(3)"
   ]
  },
  {
   "cell_type": "code",
   "execution_count": 8,
   "id": "c0cc1e70-96d4-4fe9-8701-fe8a38b1f606",
   "metadata": {},
   "outputs": [
    {
     "name": "stdout",
     "output_type": "stream",
     "text": [
      "<class 'pandas.core.frame.DataFrame'>\n",
      "RangeIndex: 20237 entries, 0 to 20236\n",
      "Data columns (total 8 columns):\n",
      " #   Column             Non-Null Count  Dtype  \n",
      "---  ------             --------------  -----  \n",
      " 0   animeID            20237 non-null  int16  \n",
      " 1   title              20237 non-null  object \n",
      " 2   alternative_title  8676 non-null   object \n",
      " 3   score              19644 non-null  float32\n",
      " 4   episodes           20237 non-null  int16  \n",
      " 5   image_url          20237 non-null  object \n",
      " 6   genres             20237 non-null  object \n",
      " 7   genres_detailed    20237 non-null  object \n",
      "dtypes: float32(1), int16(2), object(5)\n",
      "memory usage: 948.7+ KB\n"
     ]
    }
   ],
   "source": [
    "animes.info()"
   ]
  },
  {
   "cell_type": "markdown",
   "id": "8e82e4f0-19dd-4179-b476-e8bae9f4beb4",
   "metadata": {},
   "source": [
    "## genres列の引き延ばし\n",
    "方針としては、`animes`テーブルの`genres`列に対して、`explode`メソッドを使用してデータの引き延ばしを行う。<br>\n",
    "そこへさらに、`ratings`テーブルの情報を結合処理するため、結果は膨大な情報量になると想定できる。<br>\n",
    "そのため、処理落ちを防ぐために、極限まで必要最低限の情報にそぎ落としていく作業を行う。"
   ]
  },
  {
   "cell_type": "code",
   "execution_count": 9,
   "id": "2c009c45-af7b-4917-a10a-4722aafe5af9",
   "metadata": {},
   "outputs": [
    {
     "data": {
      "text/html": [
       "<div>\n",
       "<style scoped>\n",
       "    .dataframe tbody tr th:only-of-type {\n",
       "        vertical-align: middle;\n",
       "    }\n",
       "\n",
       "    .dataframe tbody tr th {\n",
       "        vertical-align: top;\n",
       "    }\n",
       "\n",
       "    .dataframe thead th {\n",
       "        text-align: right;\n",
       "    }\n",
       "</style>\n",
       "<table border=\"1\" class=\"dataframe\">\n",
       "  <thead>\n",
       "    <tr style=\"text-align: right;\">\n",
       "      <th></th>\n",
       "      <th>animeID</th>\n",
       "      <th>genres</th>\n",
       "    </tr>\n",
       "  </thead>\n",
       "  <tbody>\n",
       "    <tr>\n",
       "      <th>0</th>\n",
       "      <td>1</td>\n",
       "      <td>['Adventure', 'Award Winning', 'Drama', 'Fanta...</td>\n",
       "    </tr>\n",
       "    <tr>\n",
       "      <th>1</th>\n",
       "      <td>2</td>\n",
       "      <td>['Supernatural', 'Suspense']</td>\n",
       "    </tr>\n",
       "    <tr>\n",
       "      <th>2</th>\n",
       "      <td>3</td>\n",
       "      <td>['Action', 'Comedy', 'Fantasy']</td>\n",
       "    </tr>\n",
       "    <tr>\n",
       "      <th>3</th>\n",
       "      <td>4</td>\n",
       "      <td>['Action', 'Sci-Fi', 'Suspense']</td>\n",
       "    </tr>\n",
       "    <tr>\n",
       "      <th>4</th>\n",
       "      <td>5</td>\n",
       "      <td>['Action', 'Adventure', 'Fantasy', 'Romance']</td>\n",
       "    </tr>\n",
       "    <tr>\n",
       "      <th>...</th>\n",
       "      <td>...</td>\n",
       "      <td>...</td>\n",
       "    </tr>\n",
       "    <tr>\n",
       "      <th>20232</th>\n",
       "      <td>20233</td>\n",
       "      <td>['Fantasy']</td>\n",
       "    </tr>\n",
       "    <tr>\n",
       "      <th>20233</th>\n",
       "      <td>20234</td>\n",
       "      <td>['Fantasy']</td>\n",
       "    </tr>\n",
       "    <tr>\n",
       "      <th>20234</th>\n",
       "      <td>20235</td>\n",
       "      <td>['Fantasy']</td>\n",
       "    </tr>\n",
       "    <tr>\n",
       "      <th>20235</th>\n",
       "      <td>20236</td>\n",
       "      <td>[]</td>\n",
       "    </tr>\n",
       "    <tr>\n",
       "      <th>20236</th>\n",
       "      <td>20237</td>\n",
       "      <td>[]</td>\n",
       "    </tr>\n",
       "  </tbody>\n",
       "</table>\n",
       "<p>20237 rows × 2 columns</p>\n",
       "</div>"
      ],
      "text/plain": [
       "       animeID                                             genres\n",
       "0            1  ['Adventure', 'Award Winning', 'Drama', 'Fanta...\n",
       "1            2                       ['Supernatural', 'Suspense']\n",
       "2            3                    ['Action', 'Comedy', 'Fantasy']\n",
       "3            4                   ['Action', 'Sci-Fi', 'Suspense']\n",
       "4            5      ['Action', 'Adventure', 'Fantasy', 'Romance']\n",
       "...        ...                                                ...\n",
       "20232    20233                                        ['Fantasy']\n",
       "20233    20234                                        ['Fantasy']\n",
       "20234    20235                                        ['Fantasy']\n",
       "20235    20236                                                 []\n",
       "20236    20237                                                 []\n",
       "\n",
       "[20237 rows x 2 columns]"
      ]
     },
     "execution_count": 9,
     "metadata": {},
     "output_type": "execute_result"
    }
   ],
   "source": [
    "animes_genres = animes[[\"animeID\", \"genres\"]].copy()\n",
    "animes_genres"
   ]
  },
  {
   "cell_type": "code",
   "execution_count": 10,
   "id": "d40eecec-a53e-4b53-a713-708049912397",
   "metadata": {},
   "outputs": [],
   "source": [
    "# \"genres\"列の型をPythonのリストに変換する事で、explodeメソッドが使えるようにする\n",
    "animes_genres[\"genres\"] = animes_genres[\"genres\"].apply(\n",
    "    lambda x: ast.literal_eval(x) if isinstance(x, str) else x\n",
    ")"
   ]
  },
  {
   "cell_type": "code",
   "execution_count": 11,
   "id": "92f3ff85-04e9-4ad8-8f56-2d071fc701c8",
   "metadata": {},
   "outputs": [
    {
     "data": {
      "text/plain": [
       "list"
      ]
     },
     "execution_count": 11,
     "metadata": {},
     "output_type": "execute_result"
    }
   ],
   "source": [
    "type(animes_genres.loc[0, \"genres\"])"
   ]
  },
  {
   "cell_type": "markdown",
   "id": "7939f422-9873-45c1-a6b8-812603c5f465",
   "metadata": {},
   "source": [
    "explodeメソッドを実行し、複数のジャンルをそれぞれ1行ずつ引き延ばす"
   ]
  },
  {
   "cell_type": "code",
   "execution_count": 12,
   "id": "e3657c30-4cd5-478e-88ad-b5134c52e975",
   "metadata": {},
   "outputs": [],
   "source": [
    "exploded = animes_genres.explode(\"genres\")"
   ]
  },
  {
   "cell_type": "code",
   "execution_count": 13,
   "id": "4154b6e5-f498-42b1-a62c-26288a39e098",
   "metadata": {},
   "outputs": [
    {
     "data": {
      "text/html": [
       "<div>\n",
       "<style scoped>\n",
       "    .dataframe tbody tr th:only-of-type {\n",
       "        vertical-align: middle;\n",
       "    }\n",
       "\n",
       "    .dataframe tbody tr th {\n",
       "        vertical-align: top;\n",
       "    }\n",
       "\n",
       "    .dataframe thead th {\n",
       "        text-align: right;\n",
       "    }\n",
       "</style>\n",
       "<table border=\"1\" class=\"dataframe\">\n",
       "  <thead>\n",
       "    <tr style=\"text-align: right;\">\n",
       "      <th></th>\n",
       "      <th>animeID</th>\n",
       "      <th>genres</th>\n",
       "    </tr>\n",
       "  </thead>\n",
       "  <tbody>\n",
       "    <tr>\n",
       "      <th>0</th>\n",
       "      <td>1</td>\n",
       "      <td>Adventure</td>\n",
       "    </tr>\n",
       "    <tr>\n",
       "      <th>0</th>\n",
       "      <td>1</td>\n",
       "      <td>Award Winning</td>\n",
       "    </tr>\n",
       "    <tr>\n",
       "      <th>0</th>\n",
       "      <td>1</td>\n",
       "      <td>Drama</td>\n",
       "    </tr>\n",
       "    <tr>\n",
       "      <th>0</th>\n",
       "      <td>1</td>\n",
       "      <td>Fantasy</td>\n",
       "    </tr>\n",
       "    <tr>\n",
       "      <th>0</th>\n",
       "      <td>1</td>\n",
       "      <td>Romance</td>\n",
       "    </tr>\n",
       "    <tr>\n",
       "      <th>...</th>\n",
       "      <td>...</td>\n",
       "      <td>...</td>\n",
       "    </tr>\n",
       "    <tr>\n",
       "      <th>20232</th>\n",
       "      <td>20233</td>\n",
       "      <td>Fantasy</td>\n",
       "    </tr>\n",
       "    <tr>\n",
       "      <th>20233</th>\n",
       "      <td>20234</td>\n",
       "      <td>Fantasy</td>\n",
       "    </tr>\n",
       "    <tr>\n",
       "      <th>20234</th>\n",
       "      <td>20235</td>\n",
       "      <td>Fantasy</td>\n",
       "    </tr>\n",
       "    <tr>\n",
       "      <th>20235</th>\n",
       "      <td>20236</td>\n",
       "      <td>NaN</td>\n",
       "    </tr>\n",
       "    <tr>\n",
       "      <th>20236</th>\n",
       "      <td>20237</td>\n",
       "      <td>NaN</td>\n",
       "    </tr>\n",
       "  </tbody>\n",
       "</table>\n",
       "<p>39078 rows × 2 columns</p>\n",
       "</div>"
      ],
      "text/plain": [
       "       animeID         genres\n",
       "0            1      Adventure\n",
       "0            1  Award Winning\n",
       "0            1          Drama\n",
       "0            1        Fantasy\n",
       "0            1        Romance\n",
       "...        ...            ...\n",
       "20232    20233        Fantasy\n",
       "20233    20234        Fantasy\n",
       "20234    20235        Fantasy\n",
       "20235    20236            NaN\n",
       "20236    20237            NaN\n",
       "\n",
       "[39078 rows x 2 columns]"
      ]
     },
     "execution_count": 13,
     "metadata": {},
     "output_type": "execute_result"
    }
   ],
   "source": [
    "exploded"
   ]
  },
  {
   "cell_type": "markdown",
   "id": "b7a50e5c-93e4-4ae3-875a-2d836e4d50ea",
   "metadata": {},
   "source": [
    "この時点で、作品ごとのジャンルの要素数の構成を確認し、可視化したい"
   ]
  },
  {
   "cell_type": "code",
   "execution_count": 14,
   "id": "61a7609f-535d-49d8-8040-c7fb4a66ae96",
   "metadata": {
    "scrolled": true
   },
   "outputs": [
    {
     "data": {
      "image/png": "[encoded data removed]",
      "text/plain": [
       "<Figure size 640x480 with 1 Axes>"
      ]
     },
     "metadata": {},
     "output_type": "display_data"
    }
   ],
   "source": [
    "exploded[\"genres\"].value_counts().plot(\n",
    "    kind=\"barh\", title=\"the Number of Genres\"\n",
    ")\n",
    "plt.savefig(output_dir / \"13_the Number of Genres.png\")\n",
    "plt.show()"
   ]
  },
  {
   "cell_type": "markdown",
   "id": "c92c09fc-5713-4f3e-a229-af62a4846fbd",
   "metadata": {},
   "source": [
    "最も多いジャンルは`Comedy`、続いて`Action`、`Fantasy`となっている。"
   ]
  },
  {
   "cell_type": "markdown",
   "id": "576319d2-7ec1-4748-8b9d-8def986a4e8a",
   "metadata": {},
   "source": [
    "軽量化の作業に戻る。`\"genres\"`列をカテゴリ型に変えることで軽量化を試みる。"
   ]
  },
  {
   "cell_type": "code",
   "execution_count": 15,
   "id": "85434fd1-f01b-4e66-ac52-4f43f7591ea6",
   "metadata": {},
   "outputs": [],
   "source": [
    "# 軽量化を試みるために、\"genres\"列をカテゴリ型に変えてみる\n",
    "exploded[\"genres\"] = exploded[\"genres\"].astype(\"category\")"
   ]
  },
  {
   "cell_type": "markdown",
   "id": "577407c9-54a8-404a-b42a-57b3c6a45dff",
   "metadata": {},
   "source": [
    "では、ここに`ratings`テーブルを結合する事で、ジャンル属性に関する分析を実行したい。<br>\n",
    "この際、結合する情報をしっかりと取捨選択する。"
   ]
  },
  {
   "cell_type": "code",
   "execution_count": 16,
   "id": "f9175d7d-40c5-4589-b9a6-a8f504d26cf5",
   "metadata": {},
   "outputs": [
    {
     "data": {
      "text/html": [
       "<div>\n",
       "<style scoped>\n",
       "    .dataframe tbody tr th:only-of-type {\n",
       "        vertical-align: middle;\n",
       "    }\n",
       "\n",
       "    .dataframe tbody tr th {\n",
       "        vertical-align: top;\n",
       "    }\n",
       "\n",
       "    .dataframe thead th {\n",
       "        text-align: right;\n",
       "    }\n",
       "</style>\n",
       "<table border=\"1\" class=\"dataframe\">\n",
       "  <thead>\n",
       "    <tr style=\"text-align: right;\">\n",
       "      <th></th>\n",
       "      <th>userID</th>\n",
       "      <th>animeID</th>\n",
       "      <th>rating</th>\n",
       "      <th>type</th>\n",
       "      <th>year</th>\n",
       "      <th>episodes</th>\n",
       "      <th>sequel</th>\n",
       "    </tr>\n",
       "  </thead>\n",
       "  <tbody>\n",
       "    <tr>\n",
       "      <th>0</th>\n",
       "      <td>1</td>\n",
       "      <td>1</td>\n",
       "      <td>10</td>\n",
       "      <td>MOVIE</td>\n",
       "      <td>2004</td>\n",
       "      <td>1</td>\n",
       "      <td>False</td>\n",
       "    </tr>\n",
       "    <tr>\n",
       "      <th>1</th>\n",
       "      <td>1</td>\n",
       "      <td>2</td>\n",
       "      <td>10</td>\n",
       "      <td>TV</td>\n",
       "      <td>2006</td>\n",
       "      <td>37</td>\n",
       "      <td>False</td>\n",
       "    </tr>\n",
       "    <tr>\n",
       "      <th>2</th>\n",
       "      <td>1</td>\n",
       "      <td>3</td>\n",
       "      <td>7</td>\n",
       "      <td>TV</td>\n",
       "      <td>2013</td>\n",
       "      <td>10</td>\n",
       "      <td>False</td>\n",
       "    </tr>\n",
       "    <tr>\n",
       "      <th>3</th>\n",
       "      <td>1</td>\n",
       "      <td>4</td>\n",
       "      <td>10</td>\n",
       "      <td>TV</td>\n",
       "      <td>2012</td>\n",
       "      <td>12</td>\n",
       "      <td>False</td>\n",
       "    </tr>\n",
       "    <tr>\n",
       "      <th>4</th>\n",
       "      <td>1</td>\n",
       "      <td>5</td>\n",
       "      <td>10</td>\n",
       "      <td>TV</td>\n",
       "      <td>2012</td>\n",
       "      <td>25</td>\n",
       "      <td>False</td>\n",
       "    </tr>\n",
       "  </tbody>\n",
       "</table>\n",
       "</div>"
      ],
      "text/plain": [
       "   userID  animeID  rating   type  year  episodes  sequel\n",
       "0       1        1      10  MOVIE  2004         1   False\n",
       "1       1        2      10     TV  2006        37   False\n",
       "2       1        3       7     TV  2013        10   False\n",
       "3       1        4      10     TV  2012        12   False\n",
       "4       1        5      10     TV  2012        25   False"
      ]
     },
     "execution_count": 16,
     "metadata": {},
     "output_type": "execute_result"
    }
   ],
   "source": [
    "ratings.head()"
   ]
  },
  {
   "cell_type": "code",
   "execution_count": 17,
   "id": "e2bb087a-4042-4f97-80d1-c4064b51a971",
   "metadata": {},
   "outputs": [],
   "source": [
    "ratings_genres = ratings[[\"animeID\", \"rating\"]].copy()"
   ]
  },
  {
   "cell_type": "code",
   "execution_count": 18,
   "id": "69bef3e9-b5d2-4f3e-afb2-5c8a249b693b",
   "metadata": {},
   "outputs": [
    {
     "name": "stdout",
     "output_type": "stream",
     "text": [
      "<class 'pandas.core.frame.DataFrame'>\n",
      "Index: 39078 entries, 0 to 20236\n",
      "Data columns (total 2 columns):\n",
      " #   Column   Non-Null Count  Dtype   \n",
      "---  ------   --------------  -----   \n",
      " 0   animeID  39078 non-null  int16   \n",
      " 1   genres   38822 non-null  category\n",
      "dtypes: category(1), int16(1)\n",
      "memory usage: 420.5 KB\n"
     ]
    }
   ],
   "source": [
    "exploded.info()"
   ]
  },
  {
   "cell_type": "code",
   "execution_count": 19,
   "id": "98830f6e-998c-45bd-ab53-1101106ea32d",
   "metadata": {},
   "outputs": [
    {
     "name": "stdout",
     "output_type": "stream",
     "text": [
      "<class 'pandas.core.frame.DataFrame'>\n",
      "RangeIndex: 148170496 entries, 0 to 148170495\n",
      "Data columns (total 2 columns):\n",
      " #   Column   Dtype\n",
      "---  ------   -----\n",
      " 0   animeID  int16\n",
      " 1   rating   int8 \n",
      "dtypes: int16(1), int8(1)\n",
      "memory usage: 423.9 MB\n"
     ]
    }
   ],
   "source": [
    "ratings_genres.info()"
   ]
  },
  {
   "cell_type": "code",
   "execution_count": 20,
   "id": "aea55871-668e-417b-a4ff-3736902b62df",
   "metadata": {},
   "outputs": [],
   "source": [
    "merged = pd.merge(exploded, ratings_genres, on=\"animeID\")"
   ]
  },
  {
   "cell_type": "code",
   "execution_count": 21,
   "id": "05f33ccb-940f-4249-98b7-1ae57ce8d3fe",
   "metadata": {},
   "outputs": [
    {
     "data": {
      "text/html": [
       "<div>\n",
       "<style scoped>\n",
       "    .dataframe tbody tr th:only-of-type {\n",
       "        vertical-align: middle;\n",
       "    }\n",
       "\n",
       "    .dataframe tbody tr th {\n",
       "        vertical-align: top;\n",
       "    }\n",
       "\n",
       "    .dataframe thead th {\n",
       "        text-align: right;\n",
       "    }\n",
       "</style>\n",
       "<table border=\"1\" class=\"dataframe\">\n",
       "  <thead>\n",
       "    <tr style=\"text-align: right;\">\n",
       "      <th></th>\n",
       "      <th>animeID</th>\n",
       "      <th>genres</th>\n",
       "      <th>rating</th>\n",
       "    </tr>\n",
       "  </thead>\n",
       "  <tbody>\n",
       "    <tr>\n",
       "      <th>0</th>\n",
       "      <td>1</td>\n",
       "      <td>Adventure</td>\n",
       "      <td>10</td>\n",
       "    </tr>\n",
       "    <tr>\n",
       "      <th>1</th>\n",
       "      <td>1</td>\n",
       "      <td>Adventure</td>\n",
       "      <td>10</td>\n",
       "    </tr>\n",
       "    <tr>\n",
       "      <th>2</th>\n",
       "      <td>1</td>\n",
       "      <td>Adventure</td>\n",
       "      <td>10</td>\n",
       "    </tr>\n",
       "    <tr>\n",
       "      <th>3</th>\n",
       "      <td>1</td>\n",
       "      <td>Adventure</td>\n",
       "      <td>9</td>\n",
       "    </tr>\n",
       "    <tr>\n",
       "      <th>4</th>\n",
       "      <td>1</td>\n",
       "      <td>Adventure</td>\n",
       "      <td>8</td>\n",
       "    </tr>\n",
       "  </tbody>\n",
       "</table>\n",
       "</div>"
      ],
      "text/plain": [
       "   animeID     genres  rating\n",
       "0        1  Adventure      10\n",
       "1        1  Adventure      10\n",
       "2        1  Adventure      10\n",
       "3        1  Adventure       9\n",
       "4        1  Adventure       8"
      ]
     },
     "execution_count": 21,
     "metadata": {},
     "output_type": "execute_result"
    }
   ],
   "source": [
    "merged.head()"
   ]
  },
  {
   "cell_type": "code",
   "execution_count": 22,
   "id": "1a766605-0ca3-4abf-a97d-fd9971e6a9c3",
   "metadata": {},
   "outputs": [
    {
     "name": "stdout",
     "output_type": "stream",
     "text": [
      "<class 'pandas.core.frame.DataFrame'>\n",
      "RangeIndex: 388998092 entries, 0 to 388998091\n",
      "Data columns (total 3 columns):\n",
      " #   Column   Dtype   \n",
      "---  ------   -----   \n",
      " 0   animeID  int16   \n",
      " 1   genres   category\n",
      " 2   rating   int8    \n",
      "dtypes: category(1), int16(1), int8(1)\n",
      "memory usage: 1.4 GB\n"
     ]
    }
   ],
   "source": [
    "merged.info()"
   ]
  },
  {
   "cell_type": "markdown",
   "id": "07108025-1ada-4cb0-b833-50e1c977b67c",
   "metadata": {},
   "source": [
    "`genres`列をカテゴリ型にすることで、2.6GBものメモリの節約に成功した。<br>\n",
    "今後のために、ひとまずこのテーブルを保存しておく。"
   ]
  },
  {
   "cell_type": "code",
   "execution_count": 23,
   "id": "1dadf0f1-27f1-4449-a52c-2bac08f7a1f1",
   "metadata": {},
   "outputs": [],
   "source": [
    "merged.to_pickle(Path(\"..\", \"data\", \"processed\", \"genre_rate.pkl\"))"
   ]
  },
  {
   "cell_type": "markdown",
   "id": "657849a4-f5bf-4da6-9971-d2d4f4ce925f",
   "metadata": {},
   "source": [
    "### ジャンル属性による分析\n",
    "では早速、このデータを用いてジャンルに関する分析を実行する。"
   ]
  },
  {
   "cell_type": "code",
   "execution_count": 24,
   "id": "9648589a-8715-4c8a-989b-c9d02437cab2",
   "metadata": {},
   "outputs": [],
   "source": [
    "grouped = merged.groupby(\"genres\", observed=True)"
   ]
  },
  {
   "cell_type": "markdown",
   "id": "2a8ec4e2-a20b-4ec4-9112-e2b78b17f10e",
   "metadata": {},
   "source": [
    "ジャンルごとの評価件数のグラフを確認する。<br>\n",
    "以下のコードでは、件数と平均を同時に集計している。"
   ]
  },
  {
   "cell_type": "code",
   "execution_count": 25,
   "id": "eeea4c1b-19bc-46d4-b3b4-3de664a5370a",
   "metadata": {},
   "outputs": [],
   "source": [
    "genres_agg = grouped[\"rating\"].agg(\n",
    "    [\"size\", \"mean\"]\n",
    ").sort_values(ascending=False, by=\"size\")"
   ]
  },
  {
   "cell_type": "code",
   "execution_count": 26,
   "id": "d9e687c5-7f2d-49e8-84fc-450673d5e9bd",
   "metadata": {},
   "outputs": [
    {
     "data": {
      "text/html": [
       "<div>\n",
       "<style scoped>\n",
       "    .dataframe tbody tr th:only-of-type {\n",
       "        vertical-align: middle;\n",
       "    }\n",
       "\n",
       "    .dataframe tbody tr th {\n",
       "        vertical-align: top;\n",
       "    }\n",
       "\n",
       "    .dataframe thead th {\n",
       "        text-align: right;\n",
       "    }\n",
       "</style>\n",
       "<table border=\"1\" class=\"dataframe\">\n",
       "  <thead>\n",
       "    <tr style=\"text-align: right;\">\n",
       "      <th></th>\n",
       "      <th>size</th>\n",
       "      <th>mean</th>\n",
       "    </tr>\n",
       "    <tr>\n",
       "      <th>genres</th>\n",
       "      <th></th>\n",
       "      <th></th>\n",
       "    </tr>\n",
       "  </thead>\n",
       "  <tbody>\n",
       "    <tr>\n",
       "      <th>Action</th>\n",
       "      <td>71584938</td>\n",
       "      <td>7.689886</td>\n",
       "    </tr>\n",
       "    <tr>\n",
       "      <th>Comedy</th>\n",
       "      <td>46038870</td>\n",
       "      <td>7.460852</td>\n",
       "    </tr>\n",
       "    <tr>\n",
       "      <th>Fantasy</th>\n",
       "      <td>44089159</td>\n",
       "      <td>7.530193</td>\n",
       "    </tr>\n",
       "    <tr>\n",
       "      <th>Drama</th>\n",
       "      <td>37167747</td>\n",
       "      <td>7.912606</td>\n",
       "    </tr>\n",
       "    <tr>\n",
       "      <th>Romance</th>\n",
       "      <td>34281951</td>\n",
       "      <td>7.428019</td>\n",
       "    </tr>\n",
       "    <tr>\n",
       "      <th>Adventure</th>\n",
       "      <td>32226710</td>\n",
       "      <td>7.694028</td>\n",
       "    </tr>\n",
       "    <tr>\n",
       "      <th>Supernatural</th>\n",
       "      <td>22622572</td>\n",
       "      <td>7.781681</td>\n",
       "    </tr>\n",
       "    <tr>\n",
       "      <th>Sci-Fi</th>\n",
       "      <td>20578442</td>\n",
       "      <td>7.556806</td>\n",
       "    </tr>\n",
       "    <tr>\n",
       "      <th>Suspense</th>\n",
       "      <td>18537691</td>\n",
       "      <td>7.907035</td>\n",
       "    </tr>\n",
       "    <tr>\n",
       "      <th>Mystery</th>\n",
       "      <td>14424102</td>\n",
       "      <td>7.708515</td>\n",
       "    </tr>\n",
       "    <tr>\n",
       "      <th>Ecchi</th>\n",
       "      <td>12682545</td>\n",
       "      <td>7.020430</td>\n",
       "    </tr>\n",
       "    <tr>\n",
       "      <th>Award Winning</th>\n",
       "      <td>12312004</td>\n",
       "      <td>8.315579</td>\n",
       "    </tr>\n",
       "    <tr>\n",
       "      <th>Horror</th>\n",
       "      <td>6176406</td>\n",
       "      <td>7.235374</td>\n",
       "    </tr>\n",
       "    <tr>\n",
       "      <th>Sports</th>\n",
       "      <td>5454003</td>\n",
       "      <td>7.905224</td>\n",
       "    </tr>\n",
       "    <tr>\n",
       "      <th>Slice of Life</th>\n",
       "      <td>4289037</td>\n",
       "      <td>7.599691</td>\n",
       "    </tr>\n",
       "    <tr>\n",
       "      <th>Gourmet</th>\n",
       "      <td>1690588</td>\n",
       "      <td>7.657035</td>\n",
       "    </tr>\n",
       "    <tr>\n",
       "      <th>Avant Garde</th>\n",
       "      <td>1667648</td>\n",
       "      <td>7.764258</td>\n",
       "    </tr>\n",
       "    <tr>\n",
       "      <th>Hentai</th>\n",
       "      <td>936051</td>\n",
       "      <td>6.313529</td>\n",
       "    </tr>\n",
       "    <tr>\n",
       "      <th>Boys Love</th>\n",
       "      <td>935826</td>\n",
       "      <td>7.233130</td>\n",
       "    </tr>\n",
       "    <tr>\n",
       "      <th>Girls Love</th>\n",
       "      <td>893260</td>\n",
       "      <td>6.962565</td>\n",
       "    </tr>\n",
       "    <tr>\n",
       "      <th>Erotica</th>\n",
       "      <td>403371</td>\n",
       "      <td>6.195847</td>\n",
       "    </tr>\n",
       "  </tbody>\n",
       "</table>\n",
       "</div>"
      ],
      "text/plain": [
       "                   size      mean\n",
       "genres                           \n",
       "Action         71584938  7.689886\n",
       "Comedy         46038870  7.460852\n",
       "Fantasy        44089159  7.530193\n",
       "Drama          37167747  7.912606\n",
       "Romance        34281951  7.428019\n",
       "Adventure      32226710  7.694028\n",
       "Supernatural   22622572  7.781681\n",
       "Sci-Fi         20578442  7.556806\n",
       "Suspense       18537691  7.907035\n",
       "Mystery        14424102  7.708515\n",
       "Ecchi          12682545  7.020430\n",
       "Award Winning  12312004  8.315579\n",
       "Horror          6176406  7.235374\n",
       "Sports          5454003  7.905224\n",
       "Slice of Life   4289037  7.599691\n",
       "Gourmet         1690588  7.657035\n",
       "Avant Garde     1667648  7.764258\n",
       "Hentai           936051  6.313529\n",
       "Boys Love        935826  7.233130\n",
       "Girls Love       893260  6.962565\n",
       "Erotica          403371  6.195847"
      ]
     },
     "execution_count": 26,
     "metadata": {},
     "output_type": "execute_result"
    }
   ],
   "source": [
    "genres_agg"
   ]
  },
  {
   "cell_type": "code",
   "execution_count": 27,
   "id": "c995721f-a061-419b-a158-c0fe96f6d8c4",
   "metadata": {
    "scrolled": true
   },
   "outputs": [
    {
     "data": {
      "image/png": "[encoded data removed]",
      "text/plain": [
       "<Figure size 640x480 with 1 Axes>"
      ]
     },
     "metadata": {},
     "output_type": "display_data"
    }
   ],
   "source": [
    "genres_agg[\"size\"].plot(\n",
    "    kind=\"barh\",\n",
    "    title=\"Number of Score in each Genres\"\n",
    ")\n",
    "plt.savefig(output_dir / \"14_Number of Score in each Genres.png\")\n",
    "plt.show()"
   ]
  },
  {
   "cell_type": "code",
   "execution_count": 28,
   "id": "7173b29a-47f0-41cd-bc4e-6db3eb832a8e",
   "metadata": {
    "scrolled": true
   },
   "outputs": [
    {
     "data": {
      "image/png": "[encoded data removed]",
      "text/plain": [
       "<Figure size 640x480 with 1 Axes>"
      ]
     },
     "metadata": {},
     "output_type": "display_data"
    }
   ],
   "source": [
    "genres_agg[\"mean\"].sort_values(ascending=False).plot(\n",
    "    kind=\"barh\",\n",
    "    title=\"Average of Score in each Genres\"\n",
    ")\n",
    "plt.savefig(output_dir / \"15_Average of Score in each Genres.png\")\n",
    "plt.show()"
   ]
  },
  {
   "cell_type": "markdown",
   "id": "4261cf82-aad4-4ccb-b5a7-db192e6f9ddb",
   "metadata": {},
   "source": [
    "### まとめ\n",
    "- 多くの評価が投稿されるジャンルとしては、最も多いのが`Action`、続いて`Comedy`、`Fantasy`だった。こういった見やすく、親しみやすいジャンルの人気が高いと考えられる。\n",
    "- `Comedy`のジャンルを含む作品が一番多い一方で、`Action`ジャンルに対する評価件数が一番多くなっている事から、このジャンルの関心の高さがうかがえる。\n",
    "- `Ecchi`、`Hentai`、`Boys Love`といった性的な内容を示すジャンルは、それ自体が少なくとも意見を交換したり、活発な議論を呼ぶような要素ではないと考えられる。"
   ]
  },
  {
   "cell_type": "code",
   "execution_count": null,
   "id": "bfb8a94d-3d56-49f5-b6bc-095953b51859",
   "metadata": {},
   "outputs": [],
   "source": []
  }
 ],
 "metadata": {
  "kernelspec": {
   "display_name": "Python 3 (ipykernel)",
   "language": "python",
   "name": "python3"
  },
  "language_info": {
   "codemirror_mode": {
    "name": "ipython",
    "version": 3
   },
   "file_extension": ".py",
   "mimetype": "text/x-python",
   "name": "python",
   "nbconvert_exporter": "python",
   "pygments_lexer": "ipython3",
   "version": "3.12.10"
  }
 },
 "nbformat": 4,
 "nbformat_minor": 5
}
