{
 "cells": [
  {
   "cell_type": "markdown",
   "id": "e6fb4bf6-fc22-480a-afc9-25b53fa44ad9",
   "metadata": {},
   "source": [
    "# 02. User Animelist Dataset"
   ]
  },
  {
   "cell_type": "markdown",
   "id": "1d3b85a5-63a1-46b1-b1c0-2158ba35f0eb",
   "metadata": {},
   "source": [
    "概要を確認する事ができたので、このページでは、分析を行うために必要なデータの整形を行っていく。"
   ]
  },
  {
   "cell_type": "code",
   "execution_count": 1,
   "id": "77776d76-6f3a-43f4-bad5-893d4d948834",
   "metadata": {},
   "outputs": [],
   "source": [
    "import numpy as np\n",
    "import pandas as pd\n",
    "from pathlib import Path"
   ]
  },
  {
   "cell_type": "markdown",
   "id": "502ed812-cdcb-4f4b-b27e-0f1c59797b39",
   "metadata": {},
   "source": [
    "`ratings`テーブルのメモリ使用料は、およそ3GBもある事が分かっている。"
   ]
  },
  {
   "cell_type": "markdown",
   "id": "379da699-d406-434f-9ab0-6c56a7e9092a",
   "metadata": {},
   "source": [
    "さらに、`animes`テーブルの`genres`、`genres_detailed`は、複数のジャンルがPythonのリスト形式で格納されている形であり、これをそのまま展開してしまうとと、情報量が無尽蔵に増えてしまい、処理を行えなくなってしまう。"
   ]
  },
  {
   "cell_type": "markdown",
   "id": "bf4422e4-bd41-4fe2-9f91-6b63227e6264",
   "metadata": {},
   "source": [
    "そこで、`ratings`テーブルに、分析に最低限必要な情報をマージしたテーブルと、個々のアニメの情報を参照するためのテーブルを別途作成する方針を取る事にする。"
   ]
  },
  {
   "cell_type": "markdown",
   "id": "ba51d5da-f0c7-460d-a32a-c728c8423bec",
   "metadata": {},
   "source": [
    "## データの軽量化と整形\n",
    "まずは、`ratings`テーブルに、必要な情報を付加する作業を行っていく。<br>\n",
    "`ratings`テーブルはそのままでは情報量が膨大なので、まずは、データを軽くするための工程を行っていく。"
   ]
  },
  {
   "cell_type": "markdown",
   "id": "7b5d0f26-a8be-454e-bbe0-9f32f483dd30",
   "metadata": {},
   "source": [
    "#### データフレームの目盛り使用料を確認する関数\n",
    "`memory_usage`メソッドでメモリ使用量を表示可能。<br>\n",
    "`deep=True`を付けることで、文字列やオブジェクト型の実際の使用メモリも正確に計算できる。"
   ]
  },
  {
   "cell_type": "markdown",
   "id": "619803c6-f16d-4311-81c1-691dc62d83f0",
   "metadata": {},
   "source": [
    "メモリ使用量をMBで表示する関数。"
   ]
  },
  {
   "cell_type": "code",
   "execution_count": 2,
   "id": "6e6edbdc-fb4a-445e-a893-e41eb8abfd16",
   "metadata": {},
   "outputs": [],
   "source": [
    "def display_MB(df):\n",
    "    return f\"{df.memory_usage(deep=True).sum() / (1024 ** 2):.2f} MB\""
   ]
  },
  {
   "cell_type": "markdown",
   "id": "d383b6f8-58ab-48d1-bb9b-b350e444a225",
   "metadata": {},
   "source": [
    "GBで表示する関数。"
   ]
  },
  {
   "cell_type": "code",
   "execution_count": 3,
   "id": "56f2397f-110d-47d1-aabb-c7555b9d77ef",
   "metadata": {},
   "outputs": [],
   "source": [
    "def display_GB(df):\n",
    "    return f\"{df.memory_usage(deep=True).sum() / (1024 ** 3):.2f} GB\""
   ]
  },
  {
   "cell_type": "markdown",
   "id": "8529759b-44a6-47f1-9788-7cd8a630c198",
   "metadata": {},
   "source": [
    "### 軽量化作業"
   ]
  },
  {
   "attachments": {},
   "cell_type": "markdown",
   "id": "05e231e2-7fa5-479f-aa6f-ec2e047a7528",
   "metadata": {},
   "source": [
    "軽量化の方法として、まずは読み込み段階でデータを絞り込み、さらにより軽量なデータ型を指定する。"
   ]
  },
  {
   "cell_type": "code",
   "execution_count": 4,
   "id": "f675a1f6-58ad-42cd-b568-9accd443fc4c",
   "metadata": {},
   "outputs": [],
   "source": [
    "# 軽量化処理済の、読み込み関数\n",
    "animes = pd.read_csv(\n",
    "    Path(\"..\", \"data\", \"raw\", \"animes.csv\"),\n",
    "    usecols=[\n",
    "        'animeID', 'type', 'year', 'episodes', 'sequel',\n",
    "    ],\n",
    "    dtype={\n",
    "        'animeID': \"int16\",\n",
    "        'type': \"category\",\n",
    "        'year': \"object\",  # \"?\"が含まれているため\n",
    "        'episodes': \"int16\",\n",
    "        'sequel': \"bool\",\n",
    "    }\n",
    ")"
   ]
  },
  {
   "cell_type": "code",
   "execution_count": 5,
   "id": "5b91ace6-d459-4439-a0b5-cb8b6d5f3676",
   "metadata": {},
   "outputs": [
    {
     "data": {
      "text/plain": [
       "'1.14 MB'"
      ]
     },
     "execution_count": 5,
     "metadata": {},
     "output_type": "execute_result"
    }
   ],
   "source": [
    "display_MB(animes)"
   ]
  },
  {
   "cell_type": "markdown",
   "id": "f640f47e-f3dc-4168-be71-1dc5d685154f",
   "metadata": {},
   "source": [
    "`usecols`引数で抽出する列を指定、さらに`dtype`引数でそれぞれの列の型を明示してメモリを節約する。<br>\n",
    "これで、マージ用の`animes`テーブルの軽量化に成功した。"
   ]
  },
  {
   "cell_type": "markdown",
   "id": "947d53e1-5a43-4611-affb-299eebe3862b",
   "metadata": {},
   "source": [
    "`ratings`テーブルでも軽量化を試みてみる。"
   ]
  },
  {
   "cell_type": "code",
   "execution_count": 6,
   "id": "1f699383-572d-436a-8f3e-285cba0d4e64",
   "metadata": {},
   "outputs": [],
   "source": [
    "ratings = pd.read_csv(\n",
    "    Path(\"..\", \"data\", \"raw\", \"ratings.csv\"),\n",
    "    dtype={\n",
    "        \"userID\": \"int32\",\n",
    "        \"animeID\": \"int16\",\n",
    "        \"rating\": \"int8\"\n",
    "    }\n",
    ")"
   ]
  },
  {
   "cell_type": "code",
   "execution_count": 7,
   "id": "f7651df1-0a59-47e3-9685-6aecb0623c06",
   "metadata": {},
   "outputs": [
    {
     "data": {
      "text/plain": [
       "'0.97 GB'"
      ]
     },
     "execution_count": 7,
     "metadata": {},
     "output_type": "execute_result"
    }
   ],
   "source": [
    "display_GB(ratings)"
   ]
  },
  {
   "cell_type": "markdown",
   "id": "2aa2695d-86c8-4b78-b8bc-66f45314748d",
   "metadata": {},
   "source": [
    "データ型を小さいものにするだけで、メモリ使用量を約1/3に縮小できた。"
   ]
  },
  {
   "cell_type": "markdown",
   "id": "9e72cdb8-9063-4462-ab0a-992d2f135810",
   "metadata": {},
   "source": [
    "#### ratingsデータ整形\n",
    "データに重複があるかどうかを調べる。"
   ]
  },
  {
   "cell_type": "code",
   "execution_count": 8,
   "id": "f068c0f2-b890-4011-be01-37952536fdde",
   "metadata": {},
   "outputs": [
    {
     "data": {
      "text/plain": [
       "np.int64(3329887)"
      ]
     },
     "execution_count": 8,
     "metadata": {},
     "output_type": "execute_result"
    }
   ],
   "source": [
    "ratings.duplicated().sum()"
   ]
  },
  {
   "attachments": {},
   "cell_type": "markdown",
   "id": "3867b1d9-298d-4f7e-918c-38d59907b6aa",
   "metadata": {},
   "source": [
    "重複が存在する事が判明。今後の集計作業のために、これは削除しておく。\n",
    "\n",
    "`drop_duplicates`メソッドで、重複した行を削除する事が出来る。"
   ]
  },
  {
   "cell_type": "code",
   "execution_count": 9,
   "id": "01d90aae-1285-40a4-ad97-f2d77930f9f5",
   "metadata": {},
   "outputs": [
    {
     "data": {
      "text/html": [
       "<div>\n",
       "<style scoped>\n",
       "    .dataframe tbody tr th:only-of-type {\n",
       "        vertical-align: middle;\n",
       "    }\n",
       "\n",
       "    .dataframe tbody tr th {\n",
       "        vertical-align: top;\n",
       "    }\n",
       "\n",
       "    .dataframe thead th {\n",
       "        text-align: right;\n",
       "    }\n",
       "</style>\n",
       "<table border=\"1\" class=\"dataframe\">\n",
       "  <thead>\n",
       "    <tr style=\"text-align: right;\">\n",
       "      <th></th>\n",
       "      <th>userID</th>\n",
       "      <th>animeID</th>\n",
       "      <th>rating</th>\n",
       "    </tr>\n",
       "  </thead>\n",
       "  <tbody>\n",
       "    <tr>\n",
       "      <th>0</th>\n",
       "      <td>1</td>\n",
       "      <td>1</td>\n",
       "      <td>10</td>\n",
       "    </tr>\n",
       "    <tr>\n",
       "      <th>1</th>\n",
       "      <td>1</td>\n",
       "      <td>2</td>\n",
       "      <td>10</td>\n",
       "    </tr>\n",
       "    <tr>\n",
       "      <th>2</th>\n",
       "      <td>1</td>\n",
       "      <td>3</td>\n",
       "      <td>7</td>\n",
       "    </tr>\n",
       "    <tr>\n",
       "      <th>3</th>\n",
       "      <td>1</td>\n",
       "      <td>4</td>\n",
       "      <td>10</td>\n",
       "    </tr>\n",
       "    <tr>\n",
       "      <th>4</th>\n",
       "      <td>1</td>\n",
       "      <td>5</td>\n",
       "      <td>10</td>\n",
       "    </tr>\n",
       "    <tr>\n",
       "      <th>...</th>\n",
       "      <td>...</td>\n",
       "      <td>...</td>\n",
       "      <td>...</td>\n",
       "    </tr>\n",
       "    <tr>\n",
       "      <th>148170491</th>\n",
       "      <td>1774522</td>\n",
       "      <td>394</td>\n",
       "      <td>7</td>\n",
       "    </tr>\n",
       "    <tr>\n",
       "      <th>148170492</th>\n",
       "      <td>1774522</td>\n",
       "      <td>422</td>\n",
       "      <td>7</td>\n",
       "    </tr>\n",
       "    <tr>\n",
       "      <th>148170493</th>\n",
       "      <td>1774522</td>\n",
       "      <td>1018</td>\n",
       "      <td>7</td>\n",
       "    </tr>\n",
       "    <tr>\n",
       "      <th>148170494</th>\n",
       "      <td>1774522</td>\n",
       "      <td>590</td>\n",
       "      <td>6</td>\n",
       "    </tr>\n",
       "    <tr>\n",
       "      <th>148170495</th>\n",
       "      <td>1774522</td>\n",
       "      <td>230</td>\n",
       "      <td>5</td>\n",
       "    </tr>\n",
       "  </tbody>\n",
       "</table>\n",
       "<p>144840609 rows × 3 columns</p>\n",
       "</div>"
      ],
      "text/plain": [
       "            userID  animeID  rating\n",
       "0                1        1      10\n",
       "1                1        2      10\n",
       "2                1        3       7\n",
       "3                1        4      10\n",
       "4                1        5      10\n",
       "...            ...      ...     ...\n",
       "148170491  1774522      394       7\n",
       "148170492  1774522      422       7\n",
       "148170493  1774522     1018       7\n",
       "148170494  1774522      590       6\n",
       "148170495  1774522      230       5\n",
       "\n",
       "[144840609 rows x 3 columns]"
      ]
     },
     "execution_count": 9,
     "metadata": {},
     "output_type": "execute_result"
    }
   ],
   "source": [
    "ratings.drop_duplicates()"
   ]
  },
  {
   "cell_type": "code",
   "execution_count": 10,
   "id": "c8a980eb-abda-41ea-90af-00e1be8db1d5",
   "metadata": {},
   "outputs": [
    {
     "data": {
      "text/plain": [
       "(148170496, 3)"
      ]
     },
     "execution_count": 10,
     "metadata": {},
     "output_type": "execute_result"
    }
   ],
   "source": [
    "ratings.shape"
   ]
  },
  {
   "cell_type": "markdown",
   "id": "dd7493a7-917f-4498-b3b8-bc32f885db79",
   "metadata": {},
   "source": [
    "#### animesデータ整形"
   ]
  },
  {
   "cell_type": "markdown",
   "id": "614416b9-0132-4785-91d3-8e5926ba4382",
   "metadata": {},
   "source": [
    "まずは、こちらにも重複が無いか念のため調べておく。"
   ]
  },
  {
   "cell_type": "code",
   "execution_count": 11,
   "id": "a22b270d-b87a-45cd-a772-2859eea7bbcd",
   "metadata": {},
   "outputs": [
    {
     "data": {
      "text/plain": [
       "np.int64(0)"
      ]
     },
     "execution_count": 11,
     "metadata": {},
     "output_type": "execute_result"
    }
   ],
   "source": [
    "animes.duplicated().sum()"
   ]
  },
  {
   "cell_type": "markdown",
   "id": "535e4e8c-9281-4fce-95c0-b435a9d4f797",
   "metadata": {},
   "source": [
    "重複は存在しない。"
   ]
  },
  {
   "cell_type": "code",
   "execution_count": 12,
   "id": "a95380c2-fcaf-41fb-8eac-a8e4fcab204c",
   "metadata": {},
   "outputs": [
    {
     "name": "stdout",
     "output_type": "stream",
     "text": [
      "<class 'pandas.core.frame.DataFrame'>\n",
      "RangeIndex: 20237 entries, 0 to 20236\n",
      "Data columns (total 5 columns):\n",
      " #   Column    Non-Null Count  Dtype   \n",
      "---  ------    --------------  -----   \n",
      " 0   animeID   20237 non-null  int16   \n",
      " 1   type      20237 non-null  category\n",
      " 2   year      20237 non-null  object  \n",
      " 3   episodes  20237 non-null  int16   \n",
      " 4   sequel    20237 non-null  bool    \n",
      "dtypes: bool(1), category(1), int16(2), object(1)\n",
      "memory usage: 277.0+ KB\n"
     ]
    }
   ],
   "source": [
    "animes.info()"
   ]
  },
  {
   "attachments": {},
   "cell_type": "markdown",
   "id": "4423afe7-bb49-4425-a21b-4574379579cc",
   "metadata": {},
   "source": [
    "まずは`year`列をクリーニングする。\n",
    "\n",
    "\"?\"が列に含まれているので…"
   ]
  },
  {
   "cell_type": "code",
   "execution_count": 13,
   "id": "82db6f1b-5eb4-4034-9052-83c9a440d620",
   "metadata": {},
   "outputs": [
    {
     "data": {
      "text/plain": [
       "np.int64(136)"
      ]
     },
     "execution_count": 13,
     "metadata": {},
     "output_type": "execute_result"
    }
   ],
   "source": [
    "(animes[\"year\"] == \"?\").sum()"
   ]
  },
  {
   "cell_type": "markdown",
   "id": "d1ff469c-23fb-4ef4-828a-fbe6096948ea",
   "metadata": {},
   "source": [
    "np.nanを入れてしまう"
   ]
  },
  {
   "cell_type": "code",
   "execution_count": 14,
   "id": "3680b57d-fcd6-4ca5-bfea-9a44916a5e23",
   "metadata": {},
   "outputs": [],
   "source": [
    "animes.loc[animes[\"year\"] == \"?\", \"year\"] = np.nan"
   ]
  },
  {
   "cell_type": "code",
   "execution_count": 15,
   "id": "2af1e596-999c-4f4d-91d5-93a11a5eb63d",
   "metadata": {},
   "outputs": [
    {
     "data": {
      "text/plain": [
       "np.int64(136)"
      ]
     },
     "execution_count": 15,
     "metadata": {},
     "output_type": "execute_result"
    }
   ],
   "source": [
    "animes[\"year\"].isna().sum()"
   ]
  },
  {
   "cell_type": "markdown",
   "id": "389661a3-8241-4ade-bc73-9a122d655abd",
   "metadata": {},
   "source": [
    "では、データ型を変換してみようと思う。欠損値を受け入れてくれる、pandasの拡張データ型を使用する。"
   ]
  },
  {
   "cell_type": "code",
   "execution_count": 16,
   "id": "b7015ba3-ebba-4db4-97bd-49603341fed9",
   "metadata": {},
   "outputs": [],
   "source": [
    "animes[\"year\"] = animes[\"year\"].astype(\"Int16\")"
   ]
  },
  {
   "cell_type": "markdown",
   "id": "e5829c81-5740-4f4e-b9b5-fa1c2f09b613",
   "metadata": {},
   "source": [
    "ここまでで、2つのテーブルのメモリ使用量を確認する。<br>\n",
    "特に、`animes`テーブルは、大幅に減らすことに成功した。<br>\n",
    "これなら、データの結合にも耐えられるのではないか。"
   ]
  },
  {
   "cell_type": "code",
   "execution_count": 17,
   "id": "668af6f3-d728-48c8-919d-39cbf10a0b56",
   "metadata": {},
   "outputs": [
    {
     "data": {
      "text/plain": [
       "'0.17 MB'"
      ]
     },
     "execution_count": 17,
     "metadata": {},
     "output_type": "execute_result"
    }
   ],
   "source": [
    "display_MB(animes)"
   ]
  },
  {
   "cell_type": "code",
   "execution_count": 18,
   "id": "a3484d56-01b7-495c-839f-1d8cbcb8cc2f",
   "metadata": {},
   "outputs": [
    {
     "data": {
      "text/plain": [
       "'0.97 GB'"
      ]
     },
     "execution_count": 18,
     "metadata": {},
     "output_type": "execute_result"
    }
   ],
   "source": [
    "display_GB(ratings)"
   ]
  },
  {
   "cell_type": "markdown",
   "id": "8c1048e0-5ba8-4933-a3e1-a0d98ba7ee0b",
   "metadata": {},
   "source": [
    "## データの結合を実行"
   ]
  },
  {
   "cell_type": "code",
   "execution_count": 19,
   "id": "77086f63-8ec1-484f-a0a8-0f5757cd00b4",
   "metadata": {},
   "outputs": [],
   "source": [
    "merged = pd.merge(ratings, animes, on=\"animeID\")"
   ]
  },
  {
   "cell_type": "code",
   "execution_count": 20,
   "id": "4a4368c4-1bf4-4e80-b28a-86a57e705a9d",
   "metadata": {},
   "outputs": [
    {
     "data": {
      "text/html": [
       "<div>\n",
       "<style scoped>\n",
       "    .dataframe tbody tr th:only-of-type {\n",
       "        vertical-align: middle;\n",
       "    }\n",
       "\n",
       "    .dataframe tbody tr th {\n",
       "        vertical-align: top;\n",
       "    }\n",
       "\n",
       "    .dataframe thead th {\n",
       "        text-align: right;\n",
       "    }\n",
       "</style>\n",
       "<table border=\"1\" class=\"dataframe\">\n",
       "  <thead>\n",
       "    <tr style=\"text-align: right;\">\n",
       "      <th></th>\n",
       "      <th>userID</th>\n",
       "      <th>animeID</th>\n",
       "      <th>rating</th>\n",
       "      <th>type</th>\n",
       "      <th>year</th>\n",
       "      <th>episodes</th>\n",
       "      <th>sequel</th>\n",
       "    </tr>\n",
       "  </thead>\n",
       "  <tbody>\n",
       "    <tr>\n",
       "      <th>0</th>\n",
       "      <td>1</td>\n",
       "      <td>1</td>\n",
       "      <td>10</td>\n",
       "      <td>MOVIE</td>\n",
       "      <td>2004</td>\n",
       "      <td>1</td>\n",
       "      <td>False</td>\n",
       "    </tr>\n",
       "    <tr>\n",
       "      <th>1</th>\n",
       "      <td>1</td>\n",
       "      <td>2</td>\n",
       "      <td>10</td>\n",
       "      <td>TV</td>\n",
       "      <td>2006</td>\n",
       "      <td>37</td>\n",
       "      <td>False</td>\n",
       "    </tr>\n",
       "    <tr>\n",
       "      <th>2</th>\n",
       "      <td>1</td>\n",
       "      <td>3</td>\n",
       "      <td>7</td>\n",
       "      <td>TV</td>\n",
       "      <td>2013</td>\n",
       "      <td>10</td>\n",
       "      <td>False</td>\n",
       "    </tr>\n",
       "    <tr>\n",
       "      <th>3</th>\n",
       "      <td>1</td>\n",
       "      <td>4</td>\n",
       "      <td>10</td>\n",
       "      <td>TV</td>\n",
       "      <td>2012</td>\n",
       "      <td>12</td>\n",
       "      <td>False</td>\n",
       "    </tr>\n",
       "    <tr>\n",
       "      <th>4</th>\n",
       "      <td>1</td>\n",
       "      <td>5</td>\n",
       "      <td>10</td>\n",
       "      <td>TV</td>\n",
       "      <td>2012</td>\n",
       "      <td>25</td>\n",
       "      <td>False</td>\n",
       "    </tr>\n",
       "    <tr>\n",
       "      <th>...</th>\n",
       "      <td>...</td>\n",
       "      <td>...</td>\n",
       "      <td>...</td>\n",
       "      <td>...</td>\n",
       "      <td>...</td>\n",
       "      <td>...</td>\n",
       "      <td>...</td>\n",
       "    </tr>\n",
       "    <tr>\n",
       "      <th>148170491</th>\n",
       "      <td>1774522</td>\n",
       "      <td>394</td>\n",
       "      <td>7</td>\n",
       "      <td>TV</td>\n",
       "      <td>2007</td>\n",
       "      <td>24</td>\n",
       "      <td>False</td>\n",
       "    </tr>\n",
       "    <tr>\n",
       "      <th>148170492</th>\n",
       "      <td>1774522</td>\n",
       "      <td>422</td>\n",
       "      <td>7</td>\n",
       "      <td>TV</td>\n",
       "      <td>2007</td>\n",
       "      <td>12</td>\n",
       "      <td>False</td>\n",
       "    </tr>\n",
       "    <tr>\n",
       "      <th>148170493</th>\n",
       "      <td>1774522</td>\n",
       "      <td>1018</td>\n",
       "      <td>7</td>\n",
       "      <td>TV</td>\n",
       "      <td>2012</td>\n",
       "      <td>12</td>\n",
       "      <td>False</td>\n",
       "    </tr>\n",
       "    <tr>\n",
       "      <th>148170494</th>\n",
       "      <td>1774522</td>\n",
       "      <td>590</td>\n",
       "      <td>6</td>\n",
       "      <td>TV</td>\n",
       "      <td>2010</td>\n",
       "      <td>12</td>\n",
       "      <td>False</td>\n",
       "    </tr>\n",
       "    <tr>\n",
       "      <th>148170495</th>\n",
       "      <td>1774522</td>\n",
       "      <td>230</td>\n",
       "      <td>5</td>\n",
       "      <td>TV</td>\n",
       "      <td>2002</td>\n",
       "      <td>26</td>\n",
       "      <td>False</td>\n",
       "    </tr>\n",
       "  </tbody>\n",
       "</table>\n",
       "<p>148170496 rows × 7 columns</p>\n",
       "</div>"
      ],
      "text/plain": [
       "            userID  animeID  rating   type  year  episodes  sequel\n",
       "0                1        1      10  MOVIE  2004         1   False\n",
       "1                1        2      10     TV  2006        37   False\n",
       "2                1        3       7     TV  2013        10   False\n",
       "3                1        4      10     TV  2012        12   False\n",
       "4                1        5      10     TV  2012        25   False\n",
       "...            ...      ...     ...    ...   ...       ...     ...\n",
       "148170491  1774522      394       7     TV  2007        24   False\n",
       "148170492  1774522      422       7     TV  2007        12   False\n",
       "148170493  1774522     1018       7     TV  2012        12   False\n",
       "148170494  1774522      590       6     TV  2010        12   False\n",
       "148170495  1774522      230       5     TV  2002        26   False\n",
       "\n",
       "[148170496 rows x 7 columns]"
      ]
     },
     "execution_count": 20,
     "metadata": {},
     "output_type": "execute_result"
    }
   ],
   "source": [
    "merged"
   ]
  },
  {
   "cell_type": "code",
   "execution_count": 21,
   "id": "ed37d54b-2d9a-4f20-872d-99d0821e8b79",
   "metadata": {},
   "outputs": [
    {
     "name": "stdout",
     "output_type": "stream",
     "text": [
      "<class 'pandas.core.frame.DataFrame'>\n",
      "RangeIndex: 148170496 entries, 0 to 148170495\n",
      "Data columns (total 7 columns):\n",
      " #   Column    Dtype   \n",
      "---  ------    -----   \n",
      " 0   userID    int32   \n",
      " 1   animeID   int16   \n",
      " 2   rating    int8    \n",
      " 3   type      category\n",
      " 4   year      Int16   \n",
      " 5   episodes  int16   \n",
      " 6   sequel    bool    \n",
      "dtypes: Int16(1), bool(1), category(1), int16(2), int32(1), int8(1)\n",
      "memory usage: 1.9 GB\n"
     ]
    }
   ],
   "source": [
    "merged.info()"
   ]
  },
  {
   "cell_type": "markdown",
   "id": "d6fb1c40-07ac-4560-a89f-cdaebad75de2",
   "metadata": {},
   "source": [
    "何とか、2GB程度のデータ量で済ませる事が出来た。<br>\n",
    "このデータは今後の分析で活用するため、再利用の為に、pickle形式で保存する。"
   ]
  },
  {
   "cell_type": "code",
   "execution_count": 22,
   "id": "acd163c7-82ae-43e1-b79e-8009376aacbf",
   "metadata": {},
   "outputs": [],
   "source": [
    "merged.to_pickle(Path(\"..\", \"data\", \"processed\", \"merged.pkl\"))"
   ]
  },
  {
   "cell_type": "markdown",
   "id": "0329e5c7-5cf2-4898-9ebc-b47e04184b5a",
   "metadata": {},
   "source": [
    "## 参照用テーブルの作成\n",
    "別途、参照用のテーブルを作成する。<br>\n",
    "さらに、今後の分析をスムーズに実行するため、このページであらかじめ必要なクリーニング作業を終わらせておく。"
   ]
  },
  {
   "cell_type": "code",
   "execution_count": 23,
   "id": "e05d5e35-8c49-4316-91f5-1276ec456df2",
   "metadata": {},
   "outputs": [],
   "source": [
    "animes = pd.read_csv(\n",
    "    Path(\"..\", \"data\", \"raw\", \"animes.csv\"),\n",
    "    usecols=[\n",
    "        'animeID', 'title', 'alternative_title', 'genres',\n",
    "        'genres_detailed', 'image_url', 'score', 'episodes'\n",
    "    ],\n",
    "    dtype={\n",
    "        'animeID': \"int16\",\n",
    "        'episodes': \"int16\"\n",
    "    }\n",
    ")"
   ]
  },
  {
   "cell_type": "code",
   "execution_count": 24,
   "id": "fb732c8a-cb90-40ac-98a3-a119d11be0f9",
   "metadata": {},
   "outputs": [
    {
     "name": "stdout",
     "output_type": "stream",
     "text": [
      "<class 'pandas.core.frame.DataFrame'>\n",
      "RangeIndex: 20237 entries, 0 to 20236\n",
      "Data columns (total 8 columns):\n",
      " #   Column             Non-Null Count  Dtype \n",
      "---  ------             --------------  ----- \n",
      " 0   animeID            20237 non-null  int16 \n",
      " 1   title              20237 non-null  object\n",
      " 2   alternative_title  8676 non-null   object\n",
      " 3   score              20237 non-null  object\n",
      " 4   episodes           20237 non-null  int16 \n",
      " 5   image_url          20237 non-null  object\n",
      " 6   genres             20237 non-null  object\n",
      " 7   genres_detailed    20237 non-null  object\n",
      "dtypes: int16(2), object(6)\n",
      "memory usage: 1.0+ MB\n"
     ]
    }
   ],
   "source": [
    "animes.info()"
   ]
  },
  {
   "cell_type": "markdown",
   "id": "194a5916-3abf-47c4-b2b5-78e40d167289",
   "metadata": {},
   "source": [
    "重複を確認"
   ]
  },
  {
   "cell_type": "code",
   "execution_count": 25,
   "id": "f07b21b3-b6f2-4ca1-9b8a-5828f23856d8",
   "metadata": {},
   "outputs": [
    {
     "data": {
      "text/plain": [
       "np.int64(0)"
      ]
     },
     "execution_count": 25,
     "metadata": {},
     "output_type": "execute_result"
    }
   ],
   "source": [
    "animes.duplicated().sum()"
   ]
  },
  {
   "cell_type": "markdown",
   "id": "2264dd22-77ea-4163-9a74-b2d122a5e468",
   "metadata": {},
   "source": [
    "`score`列にも不要な値が含まれている事が分かっているので、クリーニングした後、pickle形式で別途保存する。"
   ]
  },
  {
   "cell_type": "code",
   "execution_count": 26,
   "id": "1542763e-f0b9-467f-ac7f-a8ee21b6a038",
   "metadata": {},
   "outputs": [
    {
     "data": {
      "text/plain": [
       "np.int64(593)"
      ]
     },
     "execution_count": 26,
     "metadata": {},
     "output_type": "execute_result"
    }
   ],
   "source": [
    "(animes[\"score\"] == \"?\").sum()"
   ]
  },
  {
   "cell_type": "markdown",
   "id": "3d8cd4ee-93f0-4de3-9240-1493cad149e4",
   "metadata": {},
   "source": [
    "np.nanを入れてしまう"
   ]
  },
  {
   "cell_type": "code",
   "execution_count": 27,
   "id": "ed6b3142-f82e-4041-9bcc-b61f01de1b62",
   "metadata": {},
   "outputs": [],
   "source": [
    "animes.loc[animes[\"score\"] == \"?\", \"score\"] = np.nan"
   ]
  },
  {
   "cell_type": "code",
   "execution_count": 28,
   "id": "bd3a9776-f584-4030-ac43-af21880df087",
   "metadata": {},
   "outputs": [
    {
     "data": {
      "text/plain": [
       "np.int64(0)"
      ]
     },
     "execution_count": 28,
     "metadata": {},
     "output_type": "execute_result"
    }
   ],
   "source": [
    "(animes[\"score\"] == \"?\").sum()"
   ]
  },
  {
   "cell_type": "code",
   "execution_count": 29,
   "id": "9df1c0cd-478b-49c9-9cb8-c34dbfb0f987",
   "metadata": {},
   "outputs": [
    {
     "data": {
      "text/plain": [
       "np.int64(593)"
      ]
     },
     "execution_count": 29,
     "metadata": {},
     "output_type": "execute_result"
    }
   ],
   "source": [
    "animes[\"score\"].isna().sum()"
   ]
  },
  {
   "cell_type": "markdown",
   "id": "ae19b104-1cde-48e8-bb53-c89444cc50cc",
   "metadata": {},
   "source": [
    "浮動小数型に変換"
   ]
  },
  {
   "cell_type": "code",
   "execution_count": 30,
   "id": "d68b51bd-b204-4448-b2e6-7ac4f63efa20",
   "metadata": {},
   "outputs": [],
   "source": [
    "animes[\"score\"] = animes[\"score\"].astype(\"float32\")"
   ]
  },
  {
   "cell_type": "markdown",
   "id": "50f9aba2-5658-4c41-8245-1ae989e87e34",
   "metadata": {},
   "source": [
    "別途保存。"
   ]
  },
  {
   "cell_type": "code",
   "execution_count": 31,
   "id": "51778a05-6c18-4de7-bf53-0a2dee8b8646",
   "metadata": {},
   "outputs": [],
   "source": [
    "animes.to_pickle(Path(\"..\", \"data\", \"processed\", \"animes.pkl\"))"
   ]
  },
  {
   "cell_type": "code",
   "execution_count": null,
   "id": "987a3e70-3ae8-4035-bf53-35b8b656964f",
   "metadata": {},
   "outputs": [],
   "source": []
  }
 ],
 "metadata": {
  "kernelspec": {
   "display_name": "Python 3 (ipykernel)",
   "language": "python",
   "name": "python3"
  },
  "language_info": {
   "codemirror_mode": {
    "name": "ipython",
    "version": 3
   },
   "file_extension": ".py",
   "mimetype": "text/x-python",
   "name": "python",
   "nbconvert_exporter": "python",
   "pygments_lexer": "ipython3",
   "version": "3.12.10"
  }
 },
 "nbformat": 4,
 "nbformat_minor": 5
}
